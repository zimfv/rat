{
 "cells": [
  {
   "cell_type": "code",
   "execution_count": 1,
   "metadata": {},
   "outputs": [],
   "source": [
    "import numpy as np\n",
    "import pandas as pd"
   ]
  },
  {
   "cell_type": "markdown",
   "metadata": {},
   "source": [
    "# Generate Tables"
   ]
  },
  {
   "cell_type": "code",
   "execution_count": 2,
   "metadata": {},
   "outputs": [],
   "source": [
    "districts = ['East Forests', 'North Mountains', 'South Deserts', 'West Steppes']\n",
    "min_count = 1000\n",
    "max_count = 10000"
   ]
  },
  {
   "cell_type": "markdown",
   "metadata": {},
   "source": [
    "## Generate environments table"
   ]
  },
  {
   "cell_type": "code",
   "execution_count": 3,
   "metadata": {},
   "outputs": [],
   "source": [
    "environment_cols = ['Urban', 'Suburban', 'Rural']"
   ]
  },
  {
   "cell_type": "code",
   "execution_count": 4,
   "metadata": {},
   "outputs": [
    {
     "data": {
      "text/html": [
       "<div>\n",
       "<style scoped>\n",
       "    .dataframe tbody tr th:only-of-type {\n",
       "        vertical-align: middle;\n",
       "    }\n",
       "\n",
       "    .dataframe tbody tr th {\n",
       "        vertical-align: top;\n",
       "    }\n",
       "\n",
       "    .dataframe thead th {\n",
       "        text-align: right;\n",
       "    }\n",
       "</style>\n",
       "<table border=\"1\" class=\"dataframe\">\n",
       "  <thead>\n",
       "    <tr style=\"text-align: right;\">\n",
       "      <th></th>\n",
       "      <th>District</th>\n",
       "      <th>Urban</th>\n",
       "      <th>Suburban</th>\n",
       "      <th>Rural</th>\n",
       "    </tr>\n",
       "  </thead>\n",
       "  <tbody>\n",
       "    <tr>\n",
       "      <th>0</th>\n",
       "      <td>East Forests</td>\n",
       "      <td>3866</td>\n",
       "      <td>1510</td>\n",
       "      <td>6397</td>\n",
       "    </tr>\n",
       "    <tr>\n",
       "      <th>1</th>\n",
       "      <td>North Mountains</td>\n",
       "      <td>3438</td>\n",
       "      <td>5779</td>\n",
       "      <td>8250</td>\n",
       "    </tr>\n",
       "    <tr>\n",
       "      <th>2</th>\n",
       "      <td>South Deserts</td>\n",
       "      <td>6971</td>\n",
       "      <td>4941</td>\n",
       "      <td>1544</td>\n",
       "    </tr>\n",
       "    <tr>\n",
       "      <th>3</th>\n",
       "      <td>West Steppes</td>\n",
       "      <td>3169</td>\n",
       "      <td>7188</td>\n",
       "      <td>5289</td>\n",
       "    </tr>\n",
       "  </tbody>\n",
       "</table>\n",
       "</div>"
      ],
      "text/plain": [
       "          District  Urban  Suburban  Rural\n",
       "0     East Forests   3866      1510   6397\n",
       "1  North Mountains   3438      5779   8250\n",
       "2    South Deserts   6971      4941   1544\n",
       "3     West Steppes   3169      7188   5289"
      ]
     },
     "execution_count": 4,
     "metadata": {},
     "output_type": "execute_result"
    }
   ],
   "source": [
    "df_environment = pd.DataFrame()\n",
    "df_environment['District'] = districts\n",
    "for col in environment_cols:\n",
    "    df_environment[col] = np.random.randint(min_count, max_count, size=len(districts))\n",
    "df_environment"
   ]
  },
  {
   "cell_type": "markdown",
   "metadata": {},
   "source": [
    "## Generate df_all table \n",
    "That table contains info about sum people for every district"
   ]
  },
  {
   "cell_type": "code",
   "execution_count": 5,
   "metadata": {},
   "outputs": [
    {
     "data": {
      "text/html": [
       "<div>\n",
       "<style scoped>\n",
       "    .dataframe tbody tr th:only-of-type {\n",
       "        vertical-align: middle;\n",
       "    }\n",
       "\n",
       "    .dataframe tbody tr th {\n",
       "        vertical-align: top;\n",
       "    }\n",
       "\n",
       "    .dataframe thead th {\n",
       "        text-align: right;\n",
       "    }\n",
       "</style>\n",
       "<table border=\"1\" class=\"dataframe\">\n",
       "  <thead>\n",
       "    <tr style=\"text-align: right;\">\n",
       "      <th></th>\n",
       "      <th>District</th>\n",
       "      <th>All</th>\n",
       "    </tr>\n",
       "  </thead>\n",
       "  <tbody>\n",
       "    <tr>\n",
       "      <th>0</th>\n",
       "      <td>East Forests</td>\n",
       "      <td>11773</td>\n",
       "    </tr>\n",
       "    <tr>\n",
       "      <th>1</th>\n",
       "      <td>North Mountains</td>\n",
       "      <td>17467</td>\n",
       "    </tr>\n",
       "    <tr>\n",
       "      <th>2</th>\n",
       "      <td>South Deserts</td>\n",
       "      <td>13456</td>\n",
       "    </tr>\n",
       "    <tr>\n",
       "      <th>3</th>\n",
       "      <td>West Steppes</td>\n",
       "      <td>15646</td>\n",
       "    </tr>\n",
       "  </tbody>\n",
       "</table>\n",
       "</div>"
      ],
      "text/plain": [
       "          District    All\n",
       "0     East Forests  11773\n",
       "1  North Mountains  17467\n",
       "2    South Deserts  13456\n",
       "3     West Steppes  15646"
      ]
     },
     "execution_count": 5,
     "metadata": {},
     "output_type": "execute_result"
    }
   ],
   "source": [
    "df_all = df_environment[['District']].copy()\n",
    "df_all['All'] = df_environment[environment_cols].sum(axis=1)\n",
    "df_all"
   ]
  },
  {
   "cell_type": "markdown",
   "metadata": {},
   "source": [
    "## Generate employment table"
   ]
  },
  {
   "cell_type": "code",
   "execution_count": 6,
   "metadata": {},
   "outputs": [],
   "source": [
    "employment_cols = ['Agriculture', 'Industry', 'Production', 'Service']"
   ]
  },
  {
   "cell_type": "code",
   "execution_count": 7,
   "metadata": {},
   "outputs": [
    {
     "data": {
      "text/html": [
       "<div>\n",
       "<style scoped>\n",
       "    .dataframe tbody tr th:only-of-type {\n",
       "        vertical-align: middle;\n",
       "    }\n",
       "\n",
       "    .dataframe tbody tr th {\n",
       "        vertical-align: top;\n",
       "    }\n",
       "\n",
       "    .dataframe thead th {\n",
       "        text-align: right;\n",
       "    }\n",
       "</style>\n",
       "<table border=\"1\" class=\"dataframe\">\n",
       "  <thead>\n",
       "    <tr style=\"text-align: right;\">\n",
       "      <th></th>\n",
       "      <th>District</th>\n",
       "      <th>Agriculture</th>\n",
       "      <th>Industry</th>\n",
       "      <th>Production</th>\n",
       "      <th>Service</th>\n",
       "    </tr>\n",
       "  </thead>\n",
       "  <tbody>\n",
       "    <tr>\n",
       "      <th>0</th>\n",
       "      <td>East Forests</td>\n",
       "      <td>2063</td>\n",
       "      <td>3644</td>\n",
       "      <td>504</td>\n",
       "      <td>5562</td>\n",
       "    </tr>\n",
       "    <tr>\n",
       "      <th>1</th>\n",
       "      <td>North Mountains</td>\n",
       "      <td>1258</td>\n",
       "      <td>3807</td>\n",
       "      <td>862</td>\n",
       "      <td>11540</td>\n",
       "    </tr>\n",
       "    <tr>\n",
       "      <th>2</th>\n",
       "      <td>South Deserts</td>\n",
       "      <td>677</td>\n",
       "      <td>4051</td>\n",
       "      <td>2699</td>\n",
       "      <td>6029</td>\n",
       "    </tr>\n",
       "    <tr>\n",
       "      <th>3</th>\n",
       "      <td>West Steppes</td>\n",
       "      <td>3309</td>\n",
       "      <td>66</td>\n",
       "      <td>275</td>\n",
       "      <td>11996</td>\n",
       "    </tr>\n",
       "  </tbody>\n",
       "</table>\n",
       "</div>"
      ],
      "text/plain": [
       "          District  Agriculture  Industry  Production  Service\n",
       "0     East Forests         2063      3644         504     5562\n",
       "1  North Mountains         1258      3807         862    11540\n",
       "2    South Deserts          677      4051        2699     6029\n",
       "3     West Steppes         3309        66         275    11996"
      ]
     },
     "execution_count": 7,
     "metadata": {},
     "output_type": "execute_result"
    }
   ],
   "source": [
    "df_employment = df_all.copy()\n",
    "for col in employment_cols[:-1]:\n",
    "    df_employment[col] = np.random.randint(df_employment['All'] // len(employment_cols[:-1]))\n",
    "df_employment[employment_cols[-1]] = df_employment['All'] - df_employment[employment_cols[:-1]].sum(axis=1)\n",
    "df_employment = df_employment[np.append('District', employment_cols)]\n",
    "df_employment"
   ]
  },
  {
   "cell_type": "markdown",
   "metadata": {},
   "source": [
    "## Generate family status table"
   ]
  },
  {
   "cell_type": "code",
   "execution_count": 8,
   "metadata": {},
   "outputs": [],
   "source": [
    "family_statuses = ['Single', 'Marriged', 'Widower']\n",
    "sexes = ['Female', 'Male']"
   ]
  },
  {
   "cell_type": "code",
   "execution_count": 9,
   "metadata": {},
   "outputs": [
    {
     "data": {
      "text/html": [
       "<div>\n",
       "<style scoped>\n",
       "    .dataframe tbody tr th:only-of-type {\n",
       "        vertical-align: middle;\n",
       "    }\n",
       "\n",
       "    .dataframe tbody tr th {\n",
       "        vertical-align: top;\n",
       "    }\n",
       "\n",
       "    .dataframe thead th {\n",
       "        text-align: right;\n",
       "    }\n",
       "</style>\n",
       "<table border=\"1\" class=\"dataframe\">\n",
       "  <thead>\n",
       "    <tr style=\"text-align: right;\">\n",
       "      <th></th>\n",
       "      <th>District</th>\n",
       "      <th>Sex</th>\n",
       "      <th>Single</th>\n",
       "      <th>Marriged</th>\n",
       "      <th>Widower</th>\n",
       "    </tr>\n",
       "  </thead>\n",
       "  <tbody>\n",
       "    <tr>\n",
       "      <th>0</th>\n",
       "      <td>East Forests</td>\n",
       "      <td>Female</td>\n",
       "      <td>2545</td>\n",
       "      <td>2248</td>\n",
       "      <td>314</td>\n",
       "    </tr>\n",
       "    <tr>\n",
       "      <th>0</th>\n",
       "      <td>East Forests</td>\n",
       "      <td>Male</td>\n",
       "      <td>1702</td>\n",
       "      <td>2920</td>\n",
       "      <td>2044</td>\n",
       "    </tr>\n",
       "    <tr>\n",
       "      <th>1</th>\n",
       "      <td>North Mountains</td>\n",
       "      <td>Female</td>\n",
       "      <td>3059</td>\n",
       "      <td>3352</td>\n",
       "      <td>617</td>\n",
       "    </tr>\n",
       "    <tr>\n",
       "      <th>1</th>\n",
       "      <td>North Mountains</td>\n",
       "      <td>Male</td>\n",
       "      <td>3207</td>\n",
       "      <td>4578</td>\n",
       "      <td>2654</td>\n",
       "    </tr>\n",
       "    <tr>\n",
       "      <th>2</th>\n",
       "      <td>South Deserts</td>\n",
       "      <td>Female</td>\n",
       "      <td>3197</td>\n",
       "      <td>2526</td>\n",
       "      <td>1516</td>\n",
       "    </tr>\n",
       "    <tr>\n",
       "      <th>2</th>\n",
       "      <td>South Deserts</td>\n",
       "      <td>Male</td>\n",
       "      <td>1899</td>\n",
       "      <td>1693</td>\n",
       "      <td>2625</td>\n",
       "    </tr>\n",
       "    <tr>\n",
       "      <th>3</th>\n",
       "      <td>West Steppes</td>\n",
       "      <td>Female</td>\n",
       "      <td>3032</td>\n",
       "      <td>2312</td>\n",
       "      <td>1988</td>\n",
       "    </tr>\n",
       "    <tr>\n",
       "      <th>3</th>\n",
       "      <td>West Steppes</td>\n",
       "      <td>Male</td>\n",
       "      <td>3756</td>\n",
       "      <td>3652</td>\n",
       "      <td>906</td>\n",
       "    </tr>\n",
       "  </tbody>\n",
       "</table>\n",
       "</div>"
      ],
      "text/plain": [
       "          District     Sex  Single  Marriged  Widower\n",
       "0     East Forests  Female    2545      2248      314\n",
       "0     East Forests    Male    1702      2920     2044\n",
       "1  North Mountains  Female    3059      3352      617\n",
       "1  North Mountains    Male    3207      4578     2654\n",
       "2    South Deserts  Female    3197      2526     1516\n",
       "2    South Deserts    Male    1899      1693     2625\n",
       "3     West Steppes  Female    3032      2312     1988\n",
       "3     West Steppes    Male    3756      3652      906"
      ]
     },
     "execution_count": 9,
     "metadata": {},
     "output_type": "execute_result"
    }
   ],
   "source": [
    "df_family = pd.DataFrame()\n",
    "df_family['District'] = df_all['District'].repeat(2)\n",
    "df_family['Sex'] = np.concatenate([sexes for district in districts])\n",
    "df_family['Deviation'] = np.random.randint(-df_all['All'].values//8, df_all['All'].values//8).repeat(2) \n",
    "df_family['Deviation'] *= np.concatenate([[-1, 1] for district in districts])\n",
    "df_family['Deviation'] += np.logical_and((df_family['Sex'] == 'Male'), (df_all['All'].repeat(2) % 2 != 0))\n",
    "df_family['All'] = df_all['All'].repeat(2)//2 + df_family['Deviation']\n",
    "for col in family_statuses[:-1]:\n",
    "    df_family[col] = np.random.randint(df_family['All'] // len(family_statuses[:-1]) // 2, \n",
    "                                       df_family['All'] // len(family_statuses[:-1]))\n",
    "df_family[family_statuses[-1]] = df_family['All'] - df_family[family_statuses[:-1]].sum(axis=1)\n",
    "df_family = df_family[np.concatenate([['District', 'Sex'], family_statuses])]\n",
    "df_family"
   ]
  },
  {
   "cell_type": "markdown",
   "metadata": {},
   "source": [
    "# Save generated tables"
   ]
  },
  {
   "cell_type": "code",
   "execution_count": 10,
   "metadata": {},
   "outputs": [],
   "source": [
    "df_environment.to_csv('environment.csv', index=False)\n",
    "df_employment.to_csv('employment.csv', index=False)\n",
    "df_family.to_csv('family.csv', index=False)"
   ]
  },
  {
   "cell_type": "markdown",
   "metadata": {},
   "source": [
    "# Show saved tables"
   ]
  },
  {
   "cell_type": "code",
   "execution_count": 11,
   "metadata": {},
   "outputs": [
    {
     "data": {
      "text/html": [
       "<div>\n",
       "<style scoped>\n",
       "    .dataframe tbody tr th:only-of-type {\n",
       "        vertical-align: middle;\n",
       "    }\n",
       "\n",
       "    .dataframe tbody tr th {\n",
       "        vertical-align: top;\n",
       "    }\n",
       "\n",
       "    .dataframe thead th {\n",
       "        text-align: right;\n",
       "    }\n",
       "</style>\n",
       "<table border=\"1\" class=\"dataframe\">\n",
       "  <thead>\n",
       "    <tr style=\"text-align: right;\">\n",
       "      <th></th>\n",
       "      <th>District</th>\n",
       "      <th>Urban</th>\n",
       "      <th>Suburban</th>\n",
       "      <th>Rural</th>\n",
       "    </tr>\n",
       "  </thead>\n",
       "  <tbody>\n",
       "    <tr>\n",
       "      <th>0</th>\n",
       "      <td>East Forests</td>\n",
       "      <td>3866</td>\n",
       "      <td>1510</td>\n",
       "      <td>6397</td>\n",
       "    </tr>\n",
       "    <tr>\n",
       "      <th>1</th>\n",
       "      <td>North Mountains</td>\n",
       "      <td>3438</td>\n",
       "      <td>5779</td>\n",
       "      <td>8250</td>\n",
       "    </tr>\n",
       "    <tr>\n",
       "      <th>2</th>\n",
       "      <td>South Deserts</td>\n",
       "      <td>6971</td>\n",
       "      <td>4941</td>\n",
       "      <td>1544</td>\n",
       "    </tr>\n",
       "    <tr>\n",
       "      <th>3</th>\n",
       "      <td>West Steppes</td>\n",
       "      <td>3169</td>\n",
       "      <td>7188</td>\n",
       "      <td>5289</td>\n",
       "    </tr>\n",
       "  </tbody>\n",
       "</table>\n",
       "</div>"
      ],
      "text/plain": [
       "          District  Urban  Suburban  Rural\n",
       "0     East Forests   3866      1510   6397\n",
       "1  North Mountains   3438      5779   8250\n",
       "2    South Deserts   6971      4941   1544\n",
       "3     West Steppes   3169      7188   5289"
      ]
     },
     "execution_count": 11,
     "metadata": {},
     "output_type": "execute_result"
    }
   ],
   "source": [
    "df_environment = pd.read_csv('environment.csv')\n",
    "df_environment"
   ]
  },
  {
   "cell_type": "code",
   "execution_count": 12,
   "metadata": {},
   "outputs": [
    {
     "data": {
      "text/html": [
       "<div>\n",
       "<style scoped>\n",
       "    .dataframe tbody tr th:only-of-type {\n",
       "        vertical-align: middle;\n",
       "    }\n",
       "\n",
       "    .dataframe tbody tr th {\n",
       "        vertical-align: top;\n",
       "    }\n",
       "\n",
       "    .dataframe thead th {\n",
       "        text-align: right;\n",
       "    }\n",
       "</style>\n",
       "<table border=\"1\" class=\"dataframe\">\n",
       "  <thead>\n",
       "    <tr style=\"text-align: right;\">\n",
       "      <th></th>\n",
       "      <th>District</th>\n",
       "      <th>Agriculture</th>\n",
       "      <th>Industry</th>\n",
       "      <th>Production</th>\n",
       "      <th>Service</th>\n",
       "    </tr>\n",
       "  </thead>\n",
       "  <tbody>\n",
       "    <tr>\n",
       "      <th>0</th>\n",
       "      <td>East Forests</td>\n",
       "      <td>2063</td>\n",
       "      <td>3644</td>\n",
       "      <td>504</td>\n",
       "      <td>5562</td>\n",
       "    </tr>\n",
       "    <tr>\n",
       "      <th>1</th>\n",
       "      <td>North Mountains</td>\n",
       "      <td>1258</td>\n",
       "      <td>3807</td>\n",
       "      <td>862</td>\n",
       "      <td>11540</td>\n",
       "    </tr>\n",
       "    <tr>\n",
       "      <th>2</th>\n",
       "      <td>South Deserts</td>\n",
       "      <td>677</td>\n",
       "      <td>4051</td>\n",
       "      <td>2699</td>\n",
       "      <td>6029</td>\n",
       "    </tr>\n",
       "    <tr>\n",
       "      <th>3</th>\n",
       "      <td>West Steppes</td>\n",
       "      <td>3309</td>\n",
       "      <td>66</td>\n",
       "      <td>275</td>\n",
       "      <td>11996</td>\n",
       "    </tr>\n",
       "  </tbody>\n",
       "</table>\n",
       "</div>"
      ],
      "text/plain": [
       "          District  Agriculture  Industry  Production  Service\n",
       "0     East Forests         2063      3644         504     5562\n",
       "1  North Mountains         1258      3807         862    11540\n",
       "2    South Deserts          677      4051        2699     6029\n",
       "3     West Steppes         3309        66         275    11996"
      ]
     },
     "execution_count": 12,
     "metadata": {},
     "output_type": "execute_result"
    }
   ],
   "source": [
    "df_employment = pd.read_csv('employment.csv')\n",
    "df_employment"
   ]
  },
  {
   "cell_type": "code",
   "execution_count": 13,
   "metadata": {},
   "outputs": [
    {
     "data": {
      "text/html": [
       "<div>\n",
       "<style scoped>\n",
       "    .dataframe tbody tr th:only-of-type {\n",
       "        vertical-align: middle;\n",
       "    }\n",
       "\n",
       "    .dataframe tbody tr th {\n",
       "        vertical-align: top;\n",
       "    }\n",
       "\n",
       "    .dataframe thead th {\n",
       "        text-align: right;\n",
       "    }\n",
       "</style>\n",
       "<table border=\"1\" class=\"dataframe\">\n",
       "  <thead>\n",
       "    <tr style=\"text-align: right;\">\n",
       "      <th></th>\n",
       "      <th>District</th>\n",
       "      <th>Sex</th>\n",
       "      <th>Single</th>\n",
       "      <th>Marriged</th>\n",
       "      <th>Widower</th>\n",
       "    </tr>\n",
       "  </thead>\n",
       "  <tbody>\n",
       "    <tr>\n",
       "      <th>0</th>\n",
       "      <td>East Forests</td>\n",
       "      <td>Female</td>\n",
       "      <td>2545</td>\n",
       "      <td>2248</td>\n",
       "      <td>314</td>\n",
       "    </tr>\n",
       "    <tr>\n",
       "      <th>1</th>\n",
       "      <td>East Forests</td>\n",
       "      <td>Male</td>\n",
       "      <td>1702</td>\n",
       "      <td>2920</td>\n",
       "      <td>2044</td>\n",
       "    </tr>\n",
       "    <tr>\n",
       "      <th>2</th>\n",
       "      <td>North Mountains</td>\n",
       "      <td>Female</td>\n",
       "      <td>3059</td>\n",
       "      <td>3352</td>\n",
       "      <td>617</td>\n",
       "    </tr>\n",
       "    <tr>\n",
       "      <th>3</th>\n",
       "      <td>North Mountains</td>\n",
       "      <td>Male</td>\n",
       "      <td>3207</td>\n",
       "      <td>4578</td>\n",
       "      <td>2654</td>\n",
       "    </tr>\n",
       "    <tr>\n",
       "      <th>4</th>\n",
       "      <td>South Deserts</td>\n",
       "      <td>Female</td>\n",
       "      <td>3197</td>\n",
       "      <td>2526</td>\n",
       "      <td>1516</td>\n",
       "    </tr>\n",
       "    <tr>\n",
       "      <th>5</th>\n",
       "      <td>South Deserts</td>\n",
       "      <td>Male</td>\n",
       "      <td>1899</td>\n",
       "      <td>1693</td>\n",
       "      <td>2625</td>\n",
       "    </tr>\n",
       "    <tr>\n",
       "      <th>6</th>\n",
       "      <td>West Steppes</td>\n",
       "      <td>Female</td>\n",
       "      <td>3032</td>\n",
       "      <td>2312</td>\n",
       "      <td>1988</td>\n",
       "    </tr>\n",
       "    <tr>\n",
       "      <th>7</th>\n",
       "      <td>West Steppes</td>\n",
       "      <td>Male</td>\n",
       "      <td>3756</td>\n",
       "      <td>3652</td>\n",
       "      <td>906</td>\n",
       "    </tr>\n",
       "  </tbody>\n",
       "</table>\n",
       "</div>"
      ],
      "text/plain": [
       "          District     Sex  Single  Marriged  Widower\n",
       "0     East Forests  Female    2545      2248      314\n",
       "1     East Forests    Male    1702      2920     2044\n",
       "2  North Mountains  Female    3059      3352      617\n",
       "3  North Mountains    Male    3207      4578     2654\n",
       "4    South Deserts  Female    3197      2526     1516\n",
       "5    South Deserts    Male    1899      1693     2625\n",
       "6     West Steppes  Female    3032      2312     1988\n",
       "7     West Steppes    Male    3756      3652      906"
      ]
     },
     "execution_count": 13,
     "metadata": {},
     "output_type": "execute_result"
    }
   ],
   "source": [
    "df_family = pd.read_csv('family.csv')\n",
    "df_family"
   ]
  },
  {
   "cell_type": "code",
   "execution_count": null,
   "metadata": {},
   "outputs": [],
   "source": []
  }
 ],
 "metadata": {
  "kernelspec": {
   "display_name": "Python 3",
   "language": "python",
   "name": "python3"
  },
  "language_info": {
   "codemirror_mode": {
    "name": "ipython",
    "version": 3
   },
   "file_extension": ".py",
   "mimetype": "text/x-python",
   "name": "python",
   "nbconvert_exporter": "python",
   "pygments_lexer": "ipython3",
   "version": "3.9.5"
  }
 },
 "nbformat": 4,
 "nbformat_minor": 4
}
