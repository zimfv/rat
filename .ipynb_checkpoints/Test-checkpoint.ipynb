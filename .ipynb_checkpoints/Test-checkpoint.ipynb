{
 "cells": [
  {
   "cell_type": "code",
   "execution_count": 1,
   "metadata": {},
   "outputs": [],
   "source": [
    "import numpy as np\n",
    "import pandas as pd\n",
    "from rat import ratmath\n",
    "from rat import ratrestore"
   ]
  },
  {
   "cell_type": "markdown",
   "metadata": {},
   "source": [
    "# Extract Some Data"
   ]
  },
  {
   "cell_type": "code",
   "execution_count": 2,
   "metadata": {},
   "outputs": [
    {
     "data": {
      "text/html": [
       "<div>\n",
       "<style scoped>\n",
       "    .dataframe tbody tr th:only-of-type {\n",
       "        vertical-align: middle;\n",
       "    }\n",
       "\n",
       "    .dataframe tbody tr th {\n",
       "        vertical-align: top;\n",
       "    }\n",
       "\n",
       "    .dataframe thead th {\n",
       "        text-align: right;\n",
       "    }\n",
       "</style>\n",
       "<table border=\"1\" class=\"dataframe\">\n",
       "  <thead>\n",
       "    <tr style=\"text-align: right;\">\n",
       "      <th></th>\n",
       "      <th>District</th>\n",
       "      <th>Agriculture</th>\n",
       "      <th>Light industry</th>\n",
       "      <th>Heavy industry</th>\n",
       "      <th>Service sector</th>\n",
       "    </tr>\n",
       "  </thead>\n",
       "  <tbody>\n",
       "    <tr>\n",
       "      <th>0</th>\n",
       "      <td>Dmitrov</td>\n",
       "      <td>584</td>\n",
       "      <td>952</td>\n",
       "      <td>562</td>\n",
       "      <td>355</td>\n",
       "    </tr>\n",
       "    <tr>\n",
       "      <th>1</th>\n",
       "      <td>Klin</td>\n",
       "      <td>615</td>\n",
       "      <td>733</td>\n",
       "      <td>761</td>\n",
       "      <td>29</td>\n",
       "    </tr>\n",
       "    <tr>\n",
       "      <th>2</th>\n",
       "      <td>Kolomna</td>\n",
       "      <td>968</td>\n",
       "      <td>415</td>\n",
       "      <td>441</td>\n",
       "      <td>56</td>\n",
       "    </tr>\n",
       "    <tr>\n",
       "      <th>3</th>\n",
       "      <td>Orehovo</td>\n",
       "      <td>202</td>\n",
       "      <td>204</td>\n",
       "      <td>142</td>\n",
       "      <td>807</td>\n",
       "    </tr>\n",
       "    <tr>\n",
       "      <th>4</th>\n",
       "      <td>Ruza</td>\n",
       "      <td>360</td>\n",
       "      <td>96</td>\n",
       "      <td>919</td>\n",
       "      <td>191</td>\n",
       "    </tr>\n",
       "  </tbody>\n",
       "</table>\n",
       "</div>"
      ],
      "text/plain": [
       "  District  Agriculture  Light industry  Heavy industry  Service sector\n",
       "0  Dmitrov          584             952             562             355\n",
       "1     Klin          615             733             761              29\n",
       "2  Kolomna          968             415             441              56\n",
       "3  Orehovo          202             204             142             807\n",
       "4     Ruza          360              96             919             191"
      ]
     },
     "execution_count": 2,
     "metadata": {},
     "output_type": "execute_result"
    }
   ],
   "source": [
    "df_a = pd.read_csv('tables/employment.csv')\n",
    "df_a.head()"
   ]
  },
  {
   "cell_type": "code",
   "execution_count": 3,
   "metadata": {},
   "outputs": [
    {
     "data": {
      "text/html": [
       "<div>\n",
       "<style scoped>\n",
       "    .dataframe tbody tr th:only-of-type {\n",
       "        vertical-align: middle;\n",
       "    }\n",
       "\n",
       "    .dataframe tbody tr th {\n",
       "        vertical-align: top;\n",
       "    }\n",
       "\n",
       "    .dataframe thead th {\n",
       "        text-align: right;\n",
       "    }\n",
       "</style>\n",
       "<table border=\"1\" class=\"dataframe\">\n",
       "  <thead>\n",
       "    <tr style=\"text-align: right;\">\n",
       "      <th></th>\n",
       "      <th>District</th>\n",
       "      <th>Urban</th>\n",
       "      <th>Suburban</th>\n",
       "      <th>Rural</th>\n",
       "    </tr>\n",
       "  </thead>\n",
       "  <tbody>\n",
       "    <tr>\n",
       "      <th>0</th>\n",
       "      <td>Dmitrov</td>\n",
       "      <td>1835</td>\n",
       "      <td>371</td>\n",
       "      <td>247</td>\n",
       "    </tr>\n",
       "    <tr>\n",
       "      <th>1</th>\n",
       "      <td>Klin</td>\n",
       "      <td>1531</td>\n",
       "      <td>474</td>\n",
       "      <td>133</td>\n",
       "    </tr>\n",
       "    <tr>\n",
       "      <th>2</th>\n",
       "      <td>Kolomna</td>\n",
       "      <td>1209</td>\n",
       "      <td>550</td>\n",
       "      <td>121</td>\n",
       "    </tr>\n",
       "    <tr>\n",
       "      <th>3</th>\n",
       "      <td>Orehovo</td>\n",
       "      <td>946</td>\n",
       "      <td>28</td>\n",
       "      <td>381</td>\n",
       "    </tr>\n",
       "    <tr>\n",
       "      <th>4</th>\n",
       "      <td>Ruza</td>\n",
       "      <td>999</td>\n",
       "      <td>506</td>\n",
       "      <td>61</td>\n",
       "    </tr>\n",
       "  </tbody>\n",
       "</table>\n",
       "</div>"
      ],
      "text/plain": [
       "  District  Urban  Suburban  Rural\n",
       "0  Dmitrov   1835       371    247\n",
       "1     Klin   1531       474    133\n",
       "2  Kolomna   1209       550    121\n",
       "3  Orehovo    946        28    381\n",
       "4     Ruza    999       506     61"
      ]
     },
     "execution_count": 3,
     "metadata": {},
     "output_type": "execute_result"
    }
   ],
   "source": [
    "df_b = pd.read_csv('tables/environment.csv')\n",
    "df_b.head()"
   ]
  },
  {
   "cell_type": "markdown",
   "metadata": {},
   "source": [
    "# ratmath"
   ]
  },
  {
   "cell_type": "code",
   "execution_count": 4,
   "metadata": {},
   "outputs": [
    {
     "data": {
      "text/plain": [
       "array([[584, 562, 952, 355],\n",
       "       [615, 761, 733,  29],\n",
       "       [968, 441, 415,  56],\n",
       "       [202, 142, 204, 807],\n",
       "       [360, 919,  96, 191],\n",
       "       [880, 382, 119,  86]])"
      ]
     },
     "execution_count": 4,
     "metadata": {},
     "output_type": "execute_result"
    }
   ],
   "source": [
    "lines_a = ratmath.get_lines(df_a, name_cols=['District'])\n",
    "lines_a"
   ]
  },
  {
   "cell_type": "code",
   "execution_count": 5,
   "metadata": {},
   "outputs": [
    {
     "data": {
      "text/plain": [
       "array([[ 247,  371, 1835],\n",
       "       [ 133,  474, 1531],\n",
       "       [ 121,  550, 1209],\n",
       "       [ 381,   28,  946],\n",
       "       [  61,  506,  999],\n",
       "       [ 380,  473,  614]])"
      ]
     },
     "execution_count": 5,
     "metadata": {},
     "output_type": "execute_result"
    }
   ],
   "source": [
    "lines_b = ratmath.get_lines(df_b, name_cols=['District'])\n",
    "lines_b"
   ]
  },
  {
   "cell_type": "code",
   "execution_count": 6,
   "metadata": {},
   "outputs": [],
   "source": [
    "line_a, line_b = lines_a[0], lines_b[0]"
   ]
  },
  {
   "cell_type": "code",
   "execution_count": 7,
   "metadata": {},
   "outputs": [
    {
     "data": {
      "text/plain": [
       "(array([[1, 1, 1, 0, 0, 0, 0, 0, 0, 0, 0, 0],\n",
       "        [0, 0, 0, 1, 1, 1, 0, 0, 0, 0, 0, 0],\n",
       "        [0, 0, 0, 0, 0, 0, 1, 1, 1, 0, 0, 0],\n",
       "        [0, 0, 0, 0, 0, 0, 0, 0, 0, 1, 1, 1],\n",
       "        [1, 0, 0, 1, 0, 0, 1, 0, 0, 1, 0, 0],\n",
       "        [0, 1, 0, 0, 1, 0, 0, 1, 0, 0, 1, 0],\n",
       "        [0, 0, 1, 0, 0, 1, 0, 0, 1, 0, 0, 1]]),\n",
       " array([ 584,  562,  952,  355,  247,  371, 1835]))"
      ]
     },
     "execution_count": 7,
     "metadata": {},
     "output_type": "execute_result"
    }
   ],
   "source": [
    "ratmath.get_system(line_a, line_b)"
   ]
  },
  {
   "cell_type": "code",
   "execution_count": 8,
   "metadata": {},
   "outputs": [
    {
     "data": {
      "text/plain": [
       "(Problem(Minimize(Expression(CONVEX, NONNEGATIVE, ())), [Equality(Expression(AFFINE, NONNEGATIVE, (6,)), Constant(CONSTANT, NONNEGATIVE, (6,)))]),\n",
       " Variable((12,), nonneg=True))"
      ]
     },
     "execution_count": 8,
     "metadata": {},
     "output_type": "execute_result"
    }
   ],
   "source": [
    "ratmath.get_problem(line_a, line_b)"
   ]
  },
  {
   "cell_type": "code",
   "execution_count": 9,
   "metadata": {},
   "outputs": [
    {
     "name": "stdout",
     "output_type": "stream",
     "text": [
      "Status:  optimal_inaccurate\n",
      "The optimal value is 1040756.7346880854\n",
      "A solution x is\n",
      "[ 35.2463141   77.42548429 487.3720543   27.848913    70.0280832\n",
      " 479.9746532  158.98465972 201.16382991 611.11039992   8.77090225\n",
      "   7.39409902 347.27872693] \n",
      "\n"
     ]
    },
    {
     "name": "stderr",
     "output_type": "stream",
     "text": [
      "/home/tali/.local/lib/python3.9/site-packages/cvxpy/problems/problem.py:1278: UserWarning: Solution may be inaccurate. Try another solver, adjusting the solver settings, or solve with verbose=True for more information.\n",
      "  warnings.warn(\n"
     ]
    },
    {
     "data": {
      "text/plain": [
       "array([ 35.2463141 ,  77.42548429, 487.3720543 ,  27.848913  ,\n",
       "        70.0280832 , 479.9746532 , 158.98465972, 201.16382991,\n",
       "       551.51228007,   8.77090225,   7.39409902, 347.27872693])"
      ]
     },
     "execution_count": 9,
     "metadata": {},
     "output_type": "execute_result"
    }
   ],
   "source": [
    "ratmath.restore_line(line_a, line_b, print_status=True)"
   ]
  },
  {
   "cell_type": "markdown",
   "metadata": {},
   "source": [
    "# ratrestore"
   ]
  },
  {
   "cell_type": "code",
   "execution_count": 10,
   "metadata": {},
   "outputs": [
    {
     "data": {
      "text/plain": [
       "(array(['District'], dtype=object),\n",
       " array(['Agriculture', 'Heavy industry', 'Light industry',\n",
       "        'Service sector'], dtype=object),\n",
       " array(['Rural', 'Suburban', 'Urban'], dtype=object))"
      ]
     },
     "execution_count": 10,
     "metadata": {},
     "output_type": "execute_result"
    }
   ],
   "source": [
    "name_cols, targets_a, targets_b = ratrestore.get_names_and_targets(df_a, df_b)\n",
    "name_cols, targets_a, targets_b"
   ]
  },
  {
   "cell_type": "code",
   "execution_count": 11,
   "metadata": {},
   "outputs": [
    {
     "data": {
      "text/plain": [
       "(array(['Agriculture', 'Agriculture', 'Agriculture', 'Heavy industry',\n",
       "        'Heavy industry', 'Heavy industry', 'Light industry',\n",
       "        'Light industry', 'Light industry', 'Service sector',\n",
       "        'Service sector', 'Service sector'], dtype=object),\n",
       " array(['Rural', 'Suburban', 'Urban', 'Rural', 'Suburban', 'Urban',\n",
       "        'Rural', 'Suburban', 'Urban', 'Rural', 'Suburban', 'Urban'],\n",
       "       dtype=object))"
      ]
     },
     "execution_count": 11,
     "metadata": {},
     "output_type": "execute_result"
    }
   ],
   "source": [
    "ratrestore.get_rows_target_names(targets_a, targets_b)"
   ]
  },
  {
   "cell_type": "code",
   "execution_count": 12,
   "metadata": {},
   "outputs": [
    {
     "data": {
      "text/html": [
       "<div>\n",
       "<style scoped>\n",
       "    .dataframe tbody tr th:only-of-type {\n",
       "        vertical-align: middle;\n",
       "    }\n",
       "\n",
       "    .dataframe tbody tr th {\n",
       "        vertical-align: top;\n",
       "    }\n",
       "\n",
       "    .dataframe thead th {\n",
       "        text-align: right;\n",
       "    }\n",
       "</style>\n",
       "<table border=\"1\" class=\"dataframe\">\n",
       "  <thead>\n",
       "    <tr style=\"text-align: right;\">\n",
       "      <th></th>\n",
       "      <th>District</th>\n",
       "      <th>Employment</th>\n",
       "      <th>Environment</th>\n",
       "      <th>Count</th>\n",
       "    </tr>\n",
       "  </thead>\n",
       "  <tbody>\n",
       "    <tr>\n",
       "      <th>0</th>\n",
       "      <td>Dmitrov</td>\n",
       "      <td>Agriculture</td>\n",
       "      <td>Rural</td>\n",
       "      <td>35.246314</td>\n",
       "    </tr>\n",
       "    <tr>\n",
       "      <th>1</th>\n",
       "      <td>Dmitrov</td>\n",
       "      <td>Agriculture</td>\n",
       "      <td>Suburban</td>\n",
       "      <td>77.425484</td>\n",
       "    </tr>\n",
       "    <tr>\n",
       "      <th>2</th>\n",
       "      <td>Dmitrov</td>\n",
       "      <td>Agriculture</td>\n",
       "      <td>Urban</td>\n",
       "      <td>487.372054</td>\n",
       "    </tr>\n",
       "    <tr>\n",
       "      <th>3</th>\n",
       "      <td>Dmitrov</td>\n",
       "      <td>Heavy industry</td>\n",
       "      <td>Rural</td>\n",
       "      <td>27.848913</td>\n",
       "    </tr>\n",
       "    <tr>\n",
       "      <th>4</th>\n",
       "      <td>Dmitrov</td>\n",
       "      <td>Heavy industry</td>\n",
       "      <td>Suburban</td>\n",
       "      <td>70.028083</td>\n",
       "    </tr>\n",
       "    <tr>\n",
       "      <th>5</th>\n",
       "      <td>Dmitrov</td>\n",
       "      <td>Heavy industry</td>\n",
       "      <td>Urban</td>\n",
       "      <td>479.974653</td>\n",
       "    </tr>\n",
       "    <tr>\n",
       "      <th>6</th>\n",
       "      <td>Dmitrov</td>\n",
       "      <td>Light industry</td>\n",
       "      <td>Rural</td>\n",
       "      <td>158.984660</td>\n",
       "    </tr>\n",
       "    <tr>\n",
       "      <th>7</th>\n",
       "      <td>Dmitrov</td>\n",
       "      <td>Light industry</td>\n",
       "      <td>Suburban</td>\n",
       "      <td>201.163830</td>\n",
       "    </tr>\n",
       "    <tr>\n",
       "      <th>8</th>\n",
       "      <td>Dmitrov</td>\n",
       "      <td>Light industry</td>\n",
       "      <td>Urban</td>\n",
       "      <td>551.512280</td>\n",
       "    </tr>\n",
       "    <tr>\n",
       "      <th>9</th>\n",
       "      <td>Dmitrov</td>\n",
       "      <td>Service sector</td>\n",
       "      <td>Rural</td>\n",
       "      <td>8.770902</td>\n",
       "    </tr>\n",
       "    <tr>\n",
       "      <th>10</th>\n",
       "      <td>Dmitrov</td>\n",
       "      <td>Service sector</td>\n",
       "      <td>Suburban</td>\n",
       "      <td>7.394099</td>\n",
       "    </tr>\n",
       "    <tr>\n",
       "      <th>11</th>\n",
       "      <td>Dmitrov</td>\n",
       "      <td>Service sector</td>\n",
       "      <td>Urban</td>\n",
       "      <td>347.278727</td>\n",
       "    </tr>\n",
       "    <tr>\n",
       "      <th>12</th>\n",
       "      <td>Klin</td>\n",
       "      <td>Agriculture</td>\n",
       "      <td>Rural</td>\n",
       "      <td>11.294274</td>\n",
       "    </tr>\n",
       "    <tr>\n",
       "      <th>13</th>\n",
       "      <td>Klin</td>\n",
       "      <td>Agriculture</td>\n",
       "      <td>Suburban</td>\n",
       "      <td>125.229406</td>\n",
       "    </tr>\n",
       "    <tr>\n",
       "      <th>14</th>\n",
       "      <td>Klin</td>\n",
       "      <td>Agriculture</td>\n",
       "      <td>Urban</td>\n",
       "      <td>480.586152</td>\n",
       "    </tr>\n",
       "    <tr>\n",
       "      <th>15</th>\n",
       "      <td>Klin</td>\n",
       "      <td>Heavy industry</td>\n",
       "      <td>Rural</td>\n",
       "      <td>60.007913</td>\n",
       "    </tr>\n",
       "  </tbody>\n",
       "</table>\n",
       "</div>"
      ],
      "text/plain": [
       "   District      Employment Environment       Count\n",
       "0   Dmitrov     Agriculture       Rural   35.246314\n",
       "1   Dmitrov     Agriculture    Suburban   77.425484\n",
       "2   Dmitrov     Agriculture       Urban  487.372054\n",
       "3   Dmitrov  Heavy industry       Rural   27.848913\n",
       "4   Dmitrov  Heavy industry    Suburban   70.028083\n",
       "5   Dmitrov  Heavy industry       Urban  479.974653\n",
       "6   Dmitrov  Light industry       Rural  158.984660\n",
       "7   Dmitrov  Light industry    Suburban  201.163830\n",
       "8   Dmitrov  Light industry       Urban  551.512280\n",
       "9   Dmitrov  Service sector       Rural    8.770902\n",
       "10  Dmitrov  Service sector    Suburban    7.394099\n",
       "11  Dmitrov  Service sector       Urban  347.278727\n",
       "12     Klin     Agriculture       Rural   11.294274\n",
       "13     Klin     Agriculture    Suburban  125.229406\n",
       "14     Klin     Agriculture       Urban  480.586152\n",
       "15     Klin  Heavy industry       Rural   60.007913"
      ]
     },
     "execution_count": 12,
     "metadata": {},
     "output_type": "execute_result"
    }
   ],
   "source": [
    "df_res = ratrestore.restore_table(df_a, df_b, name_a='Employment', name_b='Environment', name_res='Count')\n",
    "df_res.head(16)"
   ]
  },
  {
   "cell_type": "code",
   "execution_count": null,
   "metadata": {},
   "outputs": [],
   "source": []
  }
 ],
 "metadata": {
  "kernelspec": {
   "display_name": "Python 3",
   "language": "python",
   "name": "python3"
  },
  "language_info": {
   "codemirror_mode": {
    "name": "ipython",
    "version": 3
   },
   "file_extension": ".py",
   "mimetype": "text/x-python",
   "name": "python",
   "nbconvert_exporter": "python",
   "pygments_lexer": "ipython3",
   "version": "3.9.5"
  }
 },
 "nbformat": 4,
 "nbformat_minor": 4
}
