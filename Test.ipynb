{
 "cells": [
  {
   "cell_type": "code",
   "execution_count": 1,
   "metadata": {},
   "outputs": [],
   "source": [
    "import numpy as np\n",
    "import pandas as pd\n",
    "from rat import ratmath"
   ]
  },
  {
   "cell_type": "markdown",
   "metadata": {},
   "source": [
    "# Extract Some Data"
   ]
  },
  {
   "cell_type": "code",
   "execution_count": 2,
   "metadata": {},
   "outputs": [
    {
     "data": {
      "text/html": [
       "<div>\n",
       "<style scoped>\n",
       "    .dataframe tbody tr th:only-of-type {\n",
       "        vertical-align: middle;\n",
       "    }\n",
       "\n",
       "    .dataframe tbody tr th {\n",
       "        vertical-align: top;\n",
       "    }\n",
       "\n",
       "    .dataframe thead th {\n",
       "        text-align: right;\n",
       "    }\n",
       "</style>\n",
       "<table border=\"1\" class=\"dataframe\">\n",
       "  <thead>\n",
       "    <tr style=\"text-align: right;\">\n",
       "      <th></th>\n",
       "      <th>District</th>\n",
       "      <th>Agriculture</th>\n",
       "      <th>Light industry</th>\n",
       "      <th>Heavy industry</th>\n",
       "      <th>Service sector</th>\n",
       "    </tr>\n",
       "  </thead>\n",
       "  <tbody>\n",
       "    <tr>\n",
       "      <th>0</th>\n",
       "      <td>Dmitrov</td>\n",
       "      <td>584</td>\n",
       "      <td>952</td>\n",
       "      <td>562</td>\n",
       "      <td>355</td>\n",
       "    </tr>\n",
       "    <tr>\n",
       "      <th>1</th>\n",
       "      <td>Klin</td>\n",
       "      <td>615</td>\n",
       "      <td>733</td>\n",
       "      <td>761</td>\n",
       "      <td>29</td>\n",
       "    </tr>\n",
       "    <tr>\n",
       "      <th>2</th>\n",
       "      <td>Kolomna</td>\n",
       "      <td>968</td>\n",
       "      <td>415</td>\n",
       "      <td>441</td>\n",
       "      <td>56</td>\n",
       "    </tr>\n",
       "    <tr>\n",
       "      <th>3</th>\n",
       "      <td>Orehovo</td>\n",
       "      <td>202</td>\n",
       "      <td>204</td>\n",
       "      <td>142</td>\n",
       "      <td>807</td>\n",
       "    </tr>\n",
       "    <tr>\n",
       "      <th>4</th>\n",
       "      <td>Ruza</td>\n",
       "      <td>360</td>\n",
       "      <td>96</td>\n",
       "      <td>919</td>\n",
       "      <td>191</td>\n",
       "    </tr>\n",
       "  </tbody>\n",
       "</table>\n",
       "</div>"
      ],
      "text/plain": [
       "  District  Agriculture  Light industry  Heavy industry  Service sector\n",
       "0  Dmitrov          584             952             562             355\n",
       "1     Klin          615             733             761              29\n",
       "2  Kolomna          968             415             441              56\n",
       "3  Orehovo          202             204             142             807\n",
       "4     Ruza          360              96             919             191"
      ]
     },
     "execution_count": 2,
     "metadata": {},
     "output_type": "execute_result"
    }
   ],
   "source": [
    "df_a = pd.read_csv('tables/employment.csv')\n",
    "df_a.head()"
   ]
  },
  {
   "cell_type": "code",
   "execution_count": 3,
   "metadata": {},
   "outputs": [
    {
     "data": {
      "text/html": [
       "<div>\n",
       "<style scoped>\n",
       "    .dataframe tbody tr th:only-of-type {\n",
       "        vertical-align: middle;\n",
       "    }\n",
       "\n",
       "    .dataframe tbody tr th {\n",
       "        vertical-align: top;\n",
       "    }\n",
       "\n",
       "    .dataframe thead th {\n",
       "        text-align: right;\n",
       "    }\n",
       "</style>\n",
       "<table border=\"1\" class=\"dataframe\">\n",
       "  <thead>\n",
       "    <tr style=\"text-align: right;\">\n",
       "      <th></th>\n",
       "      <th>District</th>\n",
       "      <th>Urban</th>\n",
       "      <th>Suburban</th>\n",
       "      <th>Rural</th>\n",
       "    </tr>\n",
       "  </thead>\n",
       "  <tbody>\n",
       "    <tr>\n",
       "      <th>0</th>\n",
       "      <td>Dmitrov</td>\n",
       "      <td>1835</td>\n",
       "      <td>371</td>\n",
       "      <td>247</td>\n",
       "    </tr>\n",
       "    <tr>\n",
       "      <th>1</th>\n",
       "      <td>Klin</td>\n",
       "      <td>1531</td>\n",
       "      <td>474</td>\n",
       "      <td>133</td>\n",
       "    </tr>\n",
       "    <tr>\n",
       "      <th>2</th>\n",
       "      <td>Kolomna</td>\n",
       "      <td>1209</td>\n",
       "      <td>550</td>\n",
       "      <td>121</td>\n",
       "    </tr>\n",
       "    <tr>\n",
       "      <th>3</th>\n",
       "      <td>Orehovo</td>\n",
       "      <td>946</td>\n",
       "      <td>28</td>\n",
       "      <td>381</td>\n",
       "    </tr>\n",
       "    <tr>\n",
       "      <th>4</th>\n",
       "      <td>Ruza</td>\n",
       "      <td>999</td>\n",
       "      <td>506</td>\n",
       "      <td>61</td>\n",
       "    </tr>\n",
       "  </tbody>\n",
       "</table>\n",
       "</div>"
      ],
      "text/plain": [
       "  District  Urban  Suburban  Rural\n",
       "0  Dmitrov   1835       371    247\n",
       "1     Klin   1531       474    133\n",
       "2  Kolomna   1209       550    121\n",
       "3  Orehovo    946        28    381\n",
       "4     Ruza    999       506     61"
      ]
     },
     "execution_count": 3,
     "metadata": {},
     "output_type": "execute_result"
    }
   ],
   "source": [
    "df_b = pd.read_csv('tables/environment.csv')\n",
    "df_b.head()"
   ]
  },
  {
   "cell_type": "markdown",
   "metadata": {},
   "source": [
    "# ratmath.py"
   ]
  },
  {
   "cell_type": "code",
   "execution_count": 4,
   "metadata": {},
   "outputs": [
    {
     "data": {
      "text/plain": [
       "array([[584, 562, 952, 355],\n",
       "       [615, 761, 733,  29],\n",
       "       [968, 441, 415,  56],\n",
       "       [202, 142, 204, 807],\n",
       "       [360, 919,  96, 191],\n",
       "       [880, 382, 119,  86]])"
      ]
     },
     "execution_count": 4,
     "metadata": {},
     "output_type": "execute_result"
    }
   ],
   "source": [
    "lines_a = ratmath.get_lines(df_a, name_cols=['District'])\n",
    "lines_a"
   ]
  },
  {
   "cell_type": "code",
   "execution_count": 5,
   "metadata": {},
   "outputs": [
    {
     "data": {
      "text/plain": [
       "array([[ 247,  371, 1835],\n",
       "       [ 133,  474, 1531],\n",
       "       [ 121,  550, 1209],\n",
       "       [ 381,   28,  946],\n",
       "       [  61,  506,  999],\n",
       "       [ 380,  473,  614]])"
      ]
     },
     "execution_count": 5,
     "metadata": {},
     "output_type": "execute_result"
    }
   ],
   "source": [
    "lines_b = ratmath.get_lines(df_b, name_cols=['District'])\n",
    "lines_b"
   ]
  },
  {
   "cell_type": "code",
   "execution_count": 6,
   "metadata": {},
   "outputs": [],
   "source": [
    "line_a, line_b = lines_a[0], lines_b[0]"
   ]
  },
  {
   "cell_type": "code",
   "execution_count": 8,
   "metadata": {},
   "outputs": [
    {
     "data": {
      "text/plain": [
       "(array([[1, 1, 1, 0, 0, 0, 0, 0, 0, 0, 0, 0],\n",
       "        [0, 0, 0, 1, 1, 1, 0, 0, 0, 0, 0, 0],\n",
       "        [0, 0, 0, 0, 0, 0, 1, 1, 1, 0, 0, 0],\n",
       "        [0, 0, 0, 0, 0, 0, 0, 0, 0, 1, 1, 1],\n",
       "        [1, 0, 0, 1, 0, 0, 1, 0, 0, 1, 0, 0],\n",
       "        [0, 1, 0, 0, 1, 0, 0, 1, 0, 0, 1, 0],\n",
       "        [0, 0, 1, 0, 0, 1, 0, 0, 1, 0, 0, 1]]),\n",
       " array([ 584,  562,  952,  355,  247,  371, 1835]))"
      ]
     },
     "execution_count": 8,
     "metadata": {},
     "output_type": "execute_result"
    }
   ],
   "source": [
    "ratmath.get_system(line_a, line_b)"
   ]
  },
  {
   "cell_type": "code",
   "execution_count": 9,
   "metadata": {},
   "outputs": [
    {
     "data": {
      "text/plain": [
       "(Problem(Minimize(Expression(CONVEX, NONNEGATIVE, ())), [Equality(Expression(AFFINE, NONNEGATIVE, (6,)), Constant(CONSTANT, NONNEGATIVE, (6,)))]),\n",
       " Variable((12,), nonneg=True))"
      ]
     },
     "execution_count": 9,
     "metadata": {},
     "output_type": "execute_result"
    }
   ],
   "source": [
    "ratmath.get_problem(line_a, line_b)"
   ]
  },
  {
   "cell_type": "code",
   "execution_count": 12,
   "metadata": {},
   "outputs": [
    {
     "name": "stdout",
     "output_type": "stream",
     "text": [
      "Status:  optimal_inaccurate\n",
      "The optimal value is 1040756.7346880854\n",
      "A solution x is\n",
      "[ 35.2463141   77.42548429 487.3720543   27.848913    70.0280832\n",
      " 479.9746532  158.98465972 201.16382991 611.11039992   8.77090225\n",
      "   7.39409902 347.27872693] \n",
      "\n"
     ]
    },
    {
     "data": {
      "text/plain": [
       "array([ 35.2463141 ,  77.42548429, 487.3720543 ,  27.848913  ,\n",
       "        70.0280832 , 479.9746532 , 158.98465972, 201.16382991,\n",
       "       551.51228007,   8.77090225,   7.39409902, 347.27872693])"
      ]
     },
     "execution_count": 12,
     "metadata": {},
     "output_type": "execute_result"
    }
   ],
   "source": [
    "ratmath.restore_line(line_a, line_b, print_status=True)"
   ]
  },
  {
   "cell_type": "code",
   "execution_count": null,
   "metadata": {},
   "outputs": [],
   "source": []
  }
 ],
 "metadata": {
  "kernelspec": {
   "display_name": "Python 3",
   "language": "python",
   "name": "python3"
  },
  "language_info": {
   "codemirror_mode": {
    "name": "ipython",
    "version": 3
   },
   "file_extension": ".py",
   "mimetype": "text/x-python",
   "name": "python",
   "nbconvert_exporter": "python",
   "pygments_lexer": "ipython3",
   "version": "3.9.5"
  }
 },
 "nbformat": 4,
 "nbformat_minor": 4
}
