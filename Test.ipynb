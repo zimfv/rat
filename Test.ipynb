{
 "cells": [
  {
   "cell_type": "code",
   "execution_count": 1,
   "metadata": {},
   "outputs": [],
   "source": [
    "import numpy as np\n",
    "import pandas as pd\n",
    "from rat import ratmath\n",
    "from rat import ratrestore\n",
    "from rat import ratedit"
   ]
  },
  {
   "cell_type": "markdown",
   "metadata": {},
   "source": [
    "# Extract some Data"
   ]
  },
  {
   "cell_type": "code",
   "execution_count": 2,
   "metadata": {},
   "outputs": [
    {
     "data": {
      "text/html": [
       "<div>\n",
       "<style scoped>\n",
       "    .dataframe tbody tr th:only-of-type {\n",
       "        vertical-align: middle;\n",
       "    }\n",
       "\n",
       "    .dataframe tbody tr th {\n",
       "        vertical-align: top;\n",
       "    }\n",
       "\n",
       "    .dataframe thead th {\n",
       "        text-align: right;\n",
       "    }\n",
       "</style>\n",
       "<table border=\"1\" class=\"dataframe\">\n",
       "  <thead>\n",
       "    <tr style=\"text-align: right;\">\n",
       "      <th></th>\n",
       "      <th>District</th>\n",
       "      <th>Agriculture</th>\n",
       "      <th>Industry</th>\n",
       "      <th>Production</th>\n",
       "      <th>Service</th>\n",
       "    </tr>\n",
       "  </thead>\n",
       "  <tbody>\n",
       "    <tr>\n",
       "      <th>0</th>\n",
       "      <td>East Forests</td>\n",
       "      <td>2063</td>\n",
       "      <td>3644</td>\n",
       "      <td>504</td>\n",
       "      <td>5562</td>\n",
       "    </tr>\n",
       "    <tr>\n",
       "      <th>1</th>\n",
       "      <td>North Mountains</td>\n",
       "      <td>1258</td>\n",
       "      <td>3807</td>\n",
       "      <td>862</td>\n",
       "      <td>11540</td>\n",
       "    </tr>\n",
       "    <tr>\n",
       "      <th>2</th>\n",
       "      <td>South Deserts</td>\n",
       "      <td>677</td>\n",
       "      <td>4051</td>\n",
       "      <td>2699</td>\n",
       "      <td>6029</td>\n",
       "    </tr>\n",
       "    <tr>\n",
       "      <th>3</th>\n",
       "      <td>West Steppes</td>\n",
       "      <td>3309</td>\n",
       "      <td>66</td>\n",
       "      <td>275</td>\n",
       "      <td>11996</td>\n",
       "    </tr>\n",
       "  </tbody>\n",
       "</table>\n",
       "</div>"
      ],
      "text/plain": [
       "          District  Agriculture  Industry  Production  Service\n",
       "0     East Forests         2063      3644         504     5562\n",
       "1  North Mountains         1258      3807         862    11540\n",
       "2    South Deserts          677      4051        2699     6029\n",
       "3     West Steppes         3309        66         275    11996"
      ]
     },
     "execution_count": 2,
     "metadata": {},
     "output_type": "execute_result"
    }
   ],
   "source": [
    "df_a = pd.read_csv('tables/employment.csv')\n",
    "df_a.head()"
   ]
  },
  {
   "cell_type": "code",
   "execution_count": 3,
   "metadata": {},
   "outputs": [
    {
     "data": {
      "text/html": [
       "<div>\n",
       "<style scoped>\n",
       "    .dataframe tbody tr th:only-of-type {\n",
       "        vertical-align: middle;\n",
       "    }\n",
       "\n",
       "    .dataframe tbody tr th {\n",
       "        vertical-align: top;\n",
       "    }\n",
       "\n",
       "    .dataframe thead th {\n",
       "        text-align: right;\n",
       "    }\n",
       "</style>\n",
       "<table border=\"1\" class=\"dataframe\">\n",
       "  <thead>\n",
       "    <tr style=\"text-align: right;\">\n",
       "      <th></th>\n",
       "      <th>District</th>\n",
       "      <th>Urban</th>\n",
       "      <th>Suburban</th>\n",
       "      <th>Rural</th>\n",
       "    </tr>\n",
       "  </thead>\n",
       "  <tbody>\n",
       "    <tr>\n",
       "      <th>0</th>\n",
       "      <td>East Forests</td>\n",
       "      <td>3866</td>\n",
       "      <td>1510</td>\n",
       "      <td>6397</td>\n",
       "    </tr>\n",
       "    <tr>\n",
       "      <th>1</th>\n",
       "      <td>North Mountains</td>\n",
       "      <td>3438</td>\n",
       "      <td>5779</td>\n",
       "      <td>8250</td>\n",
       "    </tr>\n",
       "    <tr>\n",
       "      <th>2</th>\n",
       "      <td>South Deserts</td>\n",
       "      <td>6971</td>\n",
       "      <td>4941</td>\n",
       "      <td>1544</td>\n",
       "    </tr>\n",
       "    <tr>\n",
       "      <th>3</th>\n",
       "      <td>West Steppes</td>\n",
       "      <td>3169</td>\n",
       "      <td>7188</td>\n",
       "      <td>5289</td>\n",
       "    </tr>\n",
       "  </tbody>\n",
       "</table>\n",
       "</div>"
      ],
      "text/plain": [
       "          District  Urban  Suburban  Rural\n",
       "0     East Forests   3866      1510   6397\n",
       "1  North Mountains   3438      5779   8250\n",
       "2    South Deserts   6971      4941   1544\n",
       "3     West Steppes   3169      7188   5289"
      ]
     },
     "execution_count": 3,
     "metadata": {},
     "output_type": "execute_result"
    }
   ],
   "source": [
    "df_b = pd.read_csv('tables/environment.csv')\n",
    "df_b.head()"
   ]
  },
  {
   "cell_type": "code",
   "execution_count": 4,
   "metadata": {},
   "outputs": [
    {
     "data": {
      "text/html": [
       "<div>\n",
       "<style scoped>\n",
       "    .dataframe tbody tr th:only-of-type {\n",
       "        vertical-align: middle;\n",
       "    }\n",
       "\n",
       "    .dataframe tbody tr th {\n",
       "        vertical-align: top;\n",
       "    }\n",
       "\n",
       "    .dataframe thead th {\n",
       "        text-align: right;\n",
       "    }\n",
       "</style>\n",
       "<table border=\"1\" class=\"dataframe\">\n",
       "  <thead>\n",
       "    <tr style=\"text-align: right;\">\n",
       "      <th></th>\n",
       "      <th>District</th>\n",
       "      <th>Sex</th>\n",
       "      <th>Single</th>\n",
       "      <th>Marriged</th>\n",
       "      <th>Widower</th>\n",
       "    </tr>\n",
       "  </thead>\n",
       "  <tbody>\n",
       "    <tr>\n",
       "      <th>0</th>\n",
       "      <td>East Forests</td>\n",
       "      <td>Female</td>\n",
       "      <td>2545</td>\n",
       "      <td>2248</td>\n",
       "      <td>314</td>\n",
       "    </tr>\n",
       "    <tr>\n",
       "      <th>1</th>\n",
       "      <td>East Forests</td>\n",
       "      <td>Male</td>\n",
       "      <td>1702</td>\n",
       "      <td>2920</td>\n",
       "      <td>2044</td>\n",
       "    </tr>\n",
       "    <tr>\n",
       "      <th>2</th>\n",
       "      <td>North Mountains</td>\n",
       "      <td>Female</td>\n",
       "      <td>3059</td>\n",
       "      <td>3352</td>\n",
       "      <td>617</td>\n",
       "    </tr>\n",
       "    <tr>\n",
       "      <th>3</th>\n",
       "      <td>North Mountains</td>\n",
       "      <td>Male</td>\n",
       "      <td>3207</td>\n",
       "      <td>4578</td>\n",
       "      <td>2654</td>\n",
       "    </tr>\n",
       "    <tr>\n",
       "      <th>4</th>\n",
       "      <td>South Deserts</td>\n",
       "      <td>Female</td>\n",
       "      <td>3197</td>\n",
       "      <td>2526</td>\n",
       "      <td>1516</td>\n",
       "    </tr>\n",
       "  </tbody>\n",
       "</table>\n",
       "</div>"
      ],
      "text/plain": [
       "          District     Sex  Single  Marriged  Widower\n",
       "0     East Forests  Female    2545      2248      314\n",
       "1     East Forests    Male    1702      2920     2044\n",
       "2  North Mountains  Female    3059      3352      617\n",
       "3  North Mountains    Male    3207      4578     2654\n",
       "4    South Deserts  Female    3197      2526     1516"
      ]
     },
     "execution_count": 4,
     "metadata": {},
     "output_type": "execute_result"
    }
   ],
   "source": [
    "df_c = pd.read_csv('tables/family.csv')\n",
    "df_c.head()"
   ]
  },
  {
   "cell_type": "markdown",
   "metadata": {},
   "source": [
    "# ratmath"
   ]
  },
  {
   "cell_type": "code",
   "execution_count": 5,
   "metadata": {},
   "outputs": [
    {
     "data": {
      "text/plain": [
       "array([[ 2063,  3644,   504,  5562],\n",
       "       [ 1258,  3807,   862, 11540],\n",
       "       [  677,  4051,  2699,  6029],\n",
       "       [ 3309,    66,   275, 11996]])"
      ]
     },
     "execution_count": 5,
     "metadata": {},
     "output_type": "execute_result"
    }
   ],
   "source": [
    "lines_a = ratmath.get_lines(df_a, name_cols=['District'])\n",
    "lines_a"
   ]
  },
  {
   "cell_type": "code",
   "execution_count": 6,
   "metadata": {},
   "outputs": [
    {
     "data": {
      "text/plain": [
       "array([[6397, 1510, 3866],\n",
       "       [8250, 5779, 3438],\n",
       "       [1544, 4941, 6971],\n",
       "       [5289, 7188, 3169]])"
      ]
     },
     "execution_count": 6,
     "metadata": {},
     "output_type": "execute_result"
    }
   ],
   "source": [
    "lines_b = ratmath.get_lines(df_b, name_cols=['District'])\n",
    "lines_b"
   ]
  },
  {
   "cell_type": "code",
   "execution_count": 7,
   "metadata": {},
   "outputs": [],
   "source": [
    "line_a, line_b = lines_a[0], lines_b[0]"
   ]
  },
  {
   "cell_type": "code",
   "execution_count": 8,
   "metadata": {},
   "outputs": [
    {
     "data": {
      "text/plain": [
       "(array([[1, 1, 1, 0, 0, 0, 0, 0, 0, 0, 0, 0],\n",
       "        [0, 0, 0, 1, 1, 1, 0, 0, 0, 0, 0, 0],\n",
       "        [0, 0, 0, 0, 0, 0, 1, 1, 1, 0, 0, 0],\n",
       "        [0, 0, 0, 0, 0, 0, 0, 0, 0, 1, 1, 1],\n",
       "        [1, 0, 0, 1, 0, 0, 1, 0, 0, 1, 0, 0],\n",
       "        [0, 1, 0, 0, 1, 0, 0, 1, 0, 0, 1, 0],\n",
       "        [0, 0, 1, 0, 0, 1, 0, 0, 1, 0, 0, 1]]),\n",
       " array([2063, 3644,  504, 5562, 6397, 1510, 3866]))"
      ]
     },
     "execution_count": 8,
     "metadata": {},
     "output_type": "execute_result"
    }
   ],
   "source": [
    "ratmath.get_system(line_a, line_b)"
   ]
  },
  {
   "cell_type": "code",
   "execution_count": 9,
   "metadata": {},
   "outputs": [
    {
     "data": {
      "text/plain": [
       "(Problem(Minimize(Expression(CONVEX, NONNEGATIVE, ())), [Equality(Expression(AFFINE, NONNEGATIVE, (6,)), Constant(CONSTANT, NONNEGATIVE, (6,)))]),\n",
       " Variable((12,), nonneg=True))"
      ]
     },
     "execution_count": 9,
     "metadata": {},
     "output_type": "execute_result"
    }
   ],
   "source": [
    "ratmath.get_problem(line_a, line_b)"
   ]
  },
  {
   "cell_type": "code",
   "execution_count": 10,
   "metadata": {},
   "outputs": [
    {
     "name": "stdout",
     "output_type": "stream",
     "text": [
      "Status:  optimal_inaccurate\n",
      "The optimal value is 23820305.91149172\n",
      "A solution x is\n",
      "[1268.10779075  244.74081494  611.21857335 2161.59040233  129.78623945\n",
      " 1504.70118493    9.24416831  380.63035393   57.44916523 2995.46432034\n",
      "  485.05031314 2338.57510293] \n",
      "\n"
     ]
    },
    {
     "name": "stderr",
     "output_type": "stream",
     "text": [
      "/home/tali/.local/lib/python3.9/site-packages/cvxpy/problems/problem.py:1278: UserWarning: Solution may be inaccurate. Try another solver, adjusting the solver settings, or solve with verbose=True for more information.\n",
      "  warnings.warn(\n"
     ]
    },
    {
     "data": {
      "text/plain": [
       "array([1268.10779075,  244.74081494,  611.21857335, 2161.59040233,\n",
       "        129.78623945, 1504.70118493,    9.24416831,  380.63035393,\n",
       "         57.44916523, 2581.90589071,  485.05031314, 2338.57510293])"
      ]
     },
     "execution_count": 10,
     "metadata": {},
     "output_type": "execute_result"
    }
   ],
   "source": [
    "ratmath.restore_line(line_a, line_b, print_status=True)"
   ]
  },
  {
   "cell_type": "markdown",
   "metadata": {},
   "source": [
    "# ratrestore"
   ]
  },
  {
   "cell_type": "code",
   "execution_count": 11,
   "metadata": {},
   "outputs": [
    {
     "data": {
      "text/plain": [
       "(array(['District'], dtype=object),\n",
       " array(['Agriculture', 'Industry', 'Production', 'Service'], dtype=object),\n",
       " array(['Rural', 'Suburban', 'Urban'], dtype=object))"
      ]
     },
     "execution_count": 11,
     "metadata": {},
     "output_type": "execute_result"
    }
   ],
   "source": [
    "name_cols, targets_a, targets_b = ratrestore.get_names_and_targets(df_a, df_b)\n",
    "name_cols, targets_a, targets_b"
   ]
  },
  {
   "cell_type": "code",
   "execution_count": 12,
   "metadata": {},
   "outputs": [
    {
     "data": {
      "text/plain": [
       "(array(['Agriculture', 'Agriculture', 'Agriculture', 'Industry',\n",
       "        'Industry', 'Industry', 'Production', 'Production', 'Production',\n",
       "        'Service', 'Service', 'Service'], dtype=object),\n",
       " array(['Rural', 'Suburban', 'Urban', 'Rural', 'Suburban', 'Urban',\n",
       "        'Rural', 'Suburban', 'Urban', 'Rural', 'Suburban', 'Urban'],\n",
       "       dtype=object))"
      ]
     },
     "execution_count": 12,
     "metadata": {},
     "output_type": "execute_result"
    }
   ],
   "source": [
    "ratrestore.get_rows_target_names(targets_a, targets_b)"
   ]
  },
  {
   "cell_type": "code",
   "execution_count": 13,
   "metadata": {},
   "outputs": [
    {
     "data": {
      "text/html": [
       "<div>\n",
       "<style scoped>\n",
       "    .dataframe tbody tr th:only-of-type {\n",
       "        vertical-align: middle;\n",
       "    }\n",
       "\n",
       "    .dataframe tbody tr th {\n",
       "        vertical-align: top;\n",
       "    }\n",
       "\n",
       "    .dataframe thead th {\n",
       "        text-align: right;\n",
       "    }\n",
       "</style>\n",
       "<table border=\"1\" class=\"dataframe\">\n",
       "  <thead>\n",
       "    <tr style=\"text-align: right;\">\n",
       "      <th></th>\n",
       "      <th>District</th>\n",
       "      <th>Employment</th>\n",
       "      <th>Environment</th>\n",
       "      <th>Count</th>\n",
       "    </tr>\n",
       "  </thead>\n",
       "  <tbody>\n",
       "    <tr>\n",
       "      <th>0</th>\n",
       "      <td>East Forests</td>\n",
       "      <td>Agriculture</td>\n",
       "      <td>Rural</td>\n",
       "      <td>1268.107791</td>\n",
       "    </tr>\n",
       "    <tr>\n",
       "      <th>1</th>\n",
       "      <td>East Forests</td>\n",
       "      <td>Agriculture</td>\n",
       "      <td>Suburban</td>\n",
       "      <td>244.740815</td>\n",
       "    </tr>\n",
       "    <tr>\n",
       "      <th>2</th>\n",
       "      <td>East Forests</td>\n",
       "      <td>Agriculture</td>\n",
       "      <td>Urban</td>\n",
       "      <td>611.218573</td>\n",
       "    </tr>\n",
       "    <tr>\n",
       "      <th>3</th>\n",
       "      <td>East Forests</td>\n",
       "      <td>Industry</td>\n",
       "      <td>Rural</td>\n",
       "      <td>2161.590402</td>\n",
       "    </tr>\n",
       "    <tr>\n",
       "      <th>4</th>\n",
       "      <td>East Forests</td>\n",
       "      <td>Industry</td>\n",
       "      <td>Suburban</td>\n",
       "      <td>129.786239</td>\n",
       "    </tr>\n",
       "    <tr>\n",
       "      <th>5</th>\n",
       "      <td>East Forests</td>\n",
       "      <td>Industry</td>\n",
       "      <td>Urban</td>\n",
       "      <td>1504.701185</td>\n",
       "    </tr>\n",
       "    <tr>\n",
       "      <th>6</th>\n",
       "      <td>East Forests</td>\n",
       "      <td>Production</td>\n",
       "      <td>Rural</td>\n",
       "      <td>9.244168</td>\n",
       "    </tr>\n",
       "    <tr>\n",
       "      <th>7</th>\n",
       "      <td>East Forests</td>\n",
       "      <td>Production</td>\n",
       "      <td>Suburban</td>\n",
       "      <td>380.630354</td>\n",
       "    </tr>\n",
       "    <tr>\n",
       "      <th>8</th>\n",
       "      <td>East Forests</td>\n",
       "      <td>Production</td>\n",
       "      <td>Urban</td>\n",
       "      <td>57.449165</td>\n",
       "    </tr>\n",
       "    <tr>\n",
       "      <th>9</th>\n",
       "      <td>East Forests</td>\n",
       "      <td>Service</td>\n",
       "      <td>Rural</td>\n",
       "      <td>2581.905891</td>\n",
       "    </tr>\n",
       "    <tr>\n",
       "      <th>10</th>\n",
       "      <td>East Forests</td>\n",
       "      <td>Service</td>\n",
       "      <td>Suburban</td>\n",
       "      <td>485.050313</td>\n",
       "    </tr>\n",
       "    <tr>\n",
       "      <th>11</th>\n",
       "      <td>East Forests</td>\n",
       "      <td>Service</td>\n",
       "      <td>Urban</td>\n",
       "      <td>2338.575103</td>\n",
       "    </tr>\n",
       "    <tr>\n",
       "      <th>12</th>\n",
       "      <td>North Mountains</td>\n",
       "      <td>Agriculture</td>\n",
       "      <td>Rural</td>\n",
       "      <td>109.148335</td>\n",
       "    </tr>\n",
       "    <tr>\n",
       "      <th>13</th>\n",
       "      <td>North Mountains</td>\n",
       "      <td>Agriculture</td>\n",
       "      <td>Suburban</td>\n",
       "      <td>124.106437</td>\n",
       "    </tr>\n",
       "    <tr>\n",
       "      <th>14</th>\n",
       "      <td>North Mountains</td>\n",
       "      <td>Agriculture</td>\n",
       "      <td>Urban</td>\n",
       "      <td>535.400832</td>\n",
       "    </tr>\n",
       "  </tbody>\n",
       "</table>\n",
       "</div>"
      ],
      "text/plain": [
       "           District   Employment Environment        Count\n",
       "0      East Forests  Agriculture       Rural  1268.107791\n",
       "1      East Forests  Agriculture    Suburban   244.740815\n",
       "2      East Forests  Agriculture       Urban   611.218573\n",
       "3      East Forests     Industry       Rural  2161.590402\n",
       "4      East Forests     Industry    Suburban   129.786239\n",
       "5      East Forests     Industry       Urban  1504.701185\n",
       "6      East Forests   Production       Rural     9.244168\n",
       "7      East Forests   Production    Suburban   380.630354\n",
       "8      East Forests   Production       Urban    57.449165\n",
       "9      East Forests      Service       Rural  2581.905891\n",
       "10     East Forests      Service    Suburban   485.050313\n",
       "11     East Forests      Service       Urban  2338.575103\n",
       "12  North Mountains  Agriculture       Rural   109.148335\n",
       "13  North Mountains  Agriculture    Suburban   124.106437\n",
       "14  North Mountains  Agriculture       Urban   535.400832"
      ]
     },
     "execution_count": 13,
     "metadata": {},
     "output_type": "execute_result"
    }
   ],
   "source": [
    "df_res = ratrestore.restore_table(df_a, df_b, name_a='Employment', name_b='Environment', name_res='Count')\n",
    "df_res.head(15)"
   ]
  },
  {
   "cell_type": "markdown",
   "metadata": {},
   "source": [
    "# ratedit"
   ]
  },
  {
   "cell_type": "code",
   "execution_count": 14,
   "metadata": {},
   "outputs": [
    {
     "data": {
      "text/html": [
       "<div>\n",
       "<style scoped>\n",
       "    .dataframe tbody tr th:only-of-type {\n",
       "        vertical-align: middle;\n",
       "    }\n",
       "\n",
       "    .dataframe tbody tr th {\n",
       "        vertical-align: top;\n",
       "    }\n",
       "\n",
       "    .dataframe thead th {\n",
       "        text-align: right;\n",
       "    }\n",
       "</style>\n",
       "<table border=\"1\" class=\"dataframe\">\n",
       "  <thead>\n",
       "    <tr style=\"text-align: right;\">\n",
       "      <th></th>\n",
       "      <th>District</th>\n",
       "      <th>Sex</th>\n",
       "      <th>Single</th>\n",
       "      <th>Marriged</th>\n",
       "      <th>Widower</th>\n",
       "    </tr>\n",
       "  </thead>\n",
       "  <tbody>\n",
       "    <tr>\n",
       "      <th>0</th>\n",
       "      <td>East Forests</td>\n",
       "      <td>Female</td>\n",
       "      <td>2545</td>\n",
       "      <td>2248</td>\n",
       "      <td>314</td>\n",
       "    </tr>\n",
       "    <tr>\n",
       "      <th>1</th>\n",
       "      <td>East Forests</td>\n",
       "      <td>Male</td>\n",
       "      <td>1702</td>\n",
       "      <td>2920</td>\n",
       "      <td>2044</td>\n",
       "    </tr>\n",
       "    <tr>\n",
       "      <th>2</th>\n",
       "      <td>North Mountains</td>\n",
       "      <td>Female</td>\n",
       "      <td>3059</td>\n",
       "      <td>3352</td>\n",
       "      <td>617</td>\n",
       "    </tr>\n",
       "    <tr>\n",
       "      <th>3</th>\n",
       "      <td>North Mountains</td>\n",
       "      <td>Male</td>\n",
       "      <td>3207</td>\n",
       "      <td>4578</td>\n",
       "      <td>2654</td>\n",
       "    </tr>\n",
       "    <tr>\n",
       "      <th>4</th>\n",
       "      <td>South Deserts</td>\n",
       "      <td>Female</td>\n",
       "      <td>3197</td>\n",
       "      <td>2526</td>\n",
       "      <td>1516</td>\n",
       "    </tr>\n",
       "    <tr>\n",
       "      <th>5</th>\n",
       "      <td>South Deserts</td>\n",
       "      <td>Male</td>\n",
       "      <td>1899</td>\n",
       "      <td>1693</td>\n",
       "      <td>2625</td>\n",
       "    </tr>\n",
       "    <tr>\n",
       "      <th>6</th>\n",
       "      <td>West Steppes</td>\n",
       "      <td>Female</td>\n",
       "      <td>3032</td>\n",
       "      <td>2312</td>\n",
       "      <td>1988</td>\n",
       "    </tr>\n",
       "    <tr>\n",
       "      <th>7</th>\n",
       "      <td>West Steppes</td>\n",
       "      <td>Male</td>\n",
       "      <td>3756</td>\n",
       "      <td>3652</td>\n",
       "      <td>906</td>\n",
       "    </tr>\n",
       "  </tbody>\n",
       "</table>\n",
       "</div>"
      ],
      "text/plain": [
       "          District     Sex  Single  Marriged  Widower\n",
       "0     East Forests  Female    2545      2248      314\n",
       "1     East Forests    Male    1702      2920     2044\n",
       "2  North Mountains  Female    3059      3352      617\n",
       "3  North Mountains    Male    3207      4578     2654\n",
       "4    South Deserts  Female    3197      2526     1516\n",
       "5    South Deserts    Male    1899      1693     2625\n",
       "6     West Steppes  Female    3032      2312     1988\n",
       "7     West Steppes    Male    3756      3652      906"
      ]
     },
     "execution_count": 14,
     "metadata": {},
     "output_type": "execute_result"
    }
   ],
   "source": [
    "df_c"
   ]
  },
  {
   "cell_type": "code",
   "execution_count": 15,
   "metadata": {},
   "outputs": [
    {
     "data": {
      "text/html": [
       "<div>\n",
       "<style scoped>\n",
       "    .dataframe tbody tr th:only-of-type {\n",
       "        vertical-align: middle;\n",
       "    }\n",
       "\n",
       "    .dataframe tbody tr th {\n",
       "        vertical-align: top;\n",
       "    }\n",
       "\n",
       "    .dataframe thead th {\n",
       "        text-align: right;\n",
       "    }\n",
       "</style>\n",
       "<table border=\"1\" class=\"dataframe\">\n",
       "  <thead>\n",
       "    <tr style=\"text-align: right;\">\n",
       "      <th></th>\n",
       "      <th>District</th>\n",
       "      <th>Sex</th>\n",
       "      <th>Family Status</th>\n",
       "      <th>Persons</th>\n",
       "    </tr>\n",
       "  </thead>\n",
       "  <tbody>\n",
       "    <tr>\n",
       "      <th>0</th>\n",
       "      <td>East Forests</td>\n",
       "      <td>Female</td>\n",
       "      <td>Single</td>\n",
       "      <td>2545</td>\n",
       "    </tr>\n",
       "    <tr>\n",
       "      <th>1</th>\n",
       "      <td>East Forests</td>\n",
       "      <td>Female</td>\n",
       "      <td>Marriged</td>\n",
       "      <td>2248</td>\n",
       "    </tr>\n",
       "    <tr>\n",
       "      <th>2</th>\n",
       "      <td>East Forests</td>\n",
       "      <td>Female</td>\n",
       "      <td>Widower</td>\n",
       "      <td>314</td>\n",
       "    </tr>\n",
       "    <tr>\n",
       "      <th>3</th>\n",
       "      <td>East Forests</td>\n",
       "      <td>Male</td>\n",
       "      <td>Single</td>\n",
       "      <td>1702</td>\n",
       "    </tr>\n",
       "    <tr>\n",
       "      <th>4</th>\n",
       "      <td>East Forests</td>\n",
       "      <td>Male</td>\n",
       "      <td>Marriged</td>\n",
       "      <td>2920</td>\n",
       "    </tr>\n",
       "    <tr>\n",
       "      <th>5</th>\n",
       "      <td>East Forests</td>\n",
       "      <td>Male</td>\n",
       "      <td>Widower</td>\n",
       "      <td>2044</td>\n",
       "    </tr>\n",
       "    <tr>\n",
       "      <th>6</th>\n",
       "      <td>North Mountains</td>\n",
       "      <td>Female</td>\n",
       "      <td>Single</td>\n",
       "      <td>3059</td>\n",
       "    </tr>\n",
       "    <tr>\n",
       "      <th>7</th>\n",
       "      <td>North Mountains</td>\n",
       "      <td>Female</td>\n",
       "      <td>Marriged</td>\n",
       "      <td>3352</td>\n",
       "    </tr>\n",
       "    <tr>\n",
       "      <th>8</th>\n",
       "      <td>North Mountains</td>\n",
       "      <td>Female</td>\n",
       "      <td>Widower</td>\n",
       "      <td>617</td>\n",
       "    </tr>\n",
       "    <tr>\n",
       "      <th>9</th>\n",
       "      <td>North Mountains</td>\n",
       "      <td>Male</td>\n",
       "      <td>Single</td>\n",
       "      <td>3207</td>\n",
       "    </tr>\n",
       "    <tr>\n",
       "      <th>10</th>\n",
       "      <td>North Mountains</td>\n",
       "      <td>Male</td>\n",
       "      <td>Marriged</td>\n",
       "      <td>4578</td>\n",
       "    </tr>\n",
       "    <tr>\n",
       "      <th>11</th>\n",
       "      <td>North Mountains</td>\n",
       "      <td>Male</td>\n",
       "      <td>Widower</td>\n",
       "      <td>2654</td>\n",
       "    </tr>\n",
       "  </tbody>\n",
       "</table>\n",
       "</div>"
      ],
      "text/plain": [
       "           District     Sex Family Status  Persons\n",
       "0      East Forests  Female        Single     2545\n",
       "1      East Forests  Female      Marriged     2248\n",
       "2      East Forests  Female       Widower      314\n",
       "3      East Forests    Male        Single     1702\n",
       "4      East Forests    Male      Marriged     2920\n",
       "5      East Forests    Male       Widower     2044\n",
       "6   North Mountains  Female        Single     3059\n",
       "7   North Mountains  Female      Marriged     3352\n",
       "8   North Mountains  Female       Widower      617\n",
       "9   North Mountains    Male        Single     3207\n",
       "10  North Mountains    Male      Marriged     4578\n",
       "11  North Mountains    Male       Widower     2654"
      ]
     },
     "execution_count": 15,
     "metadata": {},
     "output_type": "execute_result"
    }
   ],
   "source": [
    "df_weak = ratedit.roll_weak(df_c, ['Single', 'Marriged', 'Widower'], \n",
    "                            value_name='Family Status', res_name='Persons')\n",
    "df_weak.head(12)"
   ]
  },
  {
   "cell_type": "code",
   "execution_count": 16,
   "metadata": {},
   "outputs": [
    {
     "data": {
      "text/plain": [
       "(          District col_0 col_1 col_2 col_3 col_4 col_5\n",
       " 0     East Forests  2545  1702  2248  2920   314  2044\n",
       " 1  North Mountains  3059  3207  3352  4578   617  2654\n",
       " 2    South Deserts  3197  1899  2526  1693  1516  2625\n",
       " 3     West Steppes  3032  3756  2312  3652  1988   906,\n",
       "           Sex     Value\n",
       " col_0  Female    Single\n",
       " col_1  Female    Single\n",
       " col_2  Female  Marriged\n",
       " col_3    Male  Marriged\n",
       " col_4    Male   Widower\n",
       " col_5    Male   Widower)"
      ]
     },
     "execution_count": 16,
     "metadata": {},
     "output_type": "execute_result"
    }
   ],
   "source": [
    "df_strong, cols_strong = ratedit.roll_strong(df_c, ['District'], ['Sex'], ['Single', 'Marriged', 'Widower'])\n",
    "df_strong, cols_strong"
   ]
  },
  {
   "cell_type": "code",
   "execution_count": 17,
   "metadata": {},
   "outputs": [
    {
     "data": {
      "text/html": [
       "<div>\n",
       "<style scoped>\n",
       "    .dataframe tbody tr th:only-of-type {\n",
       "        vertical-align: middle;\n",
       "    }\n",
       "\n",
       "    .dataframe tbody tr th {\n",
       "        vertical-align: top;\n",
       "    }\n",
       "\n",
       "    .dataframe thead th {\n",
       "        text-align: right;\n",
       "    }\n",
       "</style>\n",
       "<table border=\"1\" class=\"dataframe\">\n",
       "  <thead>\n",
       "    <tr style=\"text-align: right;\">\n",
       "      <th></th>\n",
       "      <th>District</th>\n",
       "      <th>Agriculture</th>\n",
       "      <th>Industry</th>\n",
       "      <th>Production</th>\n",
       "      <th>Service</th>\n",
       "    </tr>\n",
       "  </thead>\n",
       "  <tbody>\n",
       "    <tr>\n",
       "      <th>0</th>\n",
       "      <td>East Forests</td>\n",
       "      <td>2063</td>\n",
       "      <td>3644</td>\n",
       "      <td>504</td>\n",
       "      <td>5562</td>\n",
       "    </tr>\n",
       "    <tr>\n",
       "      <th>1</th>\n",
       "      <td>North Mountains</td>\n",
       "      <td>1258</td>\n",
       "      <td>3807</td>\n",
       "      <td>862</td>\n",
       "      <td>11540</td>\n",
       "    </tr>\n",
       "    <tr>\n",
       "      <th>2</th>\n",
       "      <td>South Deserts</td>\n",
       "      <td>677</td>\n",
       "      <td>4051</td>\n",
       "      <td>2699</td>\n",
       "      <td>6029</td>\n",
       "    </tr>\n",
       "    <tr>\n",
       "      <th>3</th>\n",
       "      <td>West Steppes</td>\n",
       "      <td>3309</td>\n",
       "      <td>66</td>\n",
       "      <td>275</td>\n",
       "      <td>11996</td>\n",
       "    </tr>\n",
       "  </tbody>\n",
       "</table>\n",
       "</div>"
      ],
      "text/plain": [
       "          District  Agriculture  Industry  Production  Service\n",
       "0     East Forests         2063      3644         504     5562\n",
       "1  North Mountains         1258      3807         862    11540\n",
       "2    South Deserts          677      4051        2699     6029\n",
       "3     West Steppes         3309        66         275    11996"
      ]
     },
     "execution_count": 17,
     "metadata": {},
     "output_type": "execute_result"
    }
   ],
   "source": [
    "a_columns = ['Agriculture', 'Industry', 'Production', 'Service']\n",
    "df_a"
   ]
  },
  {
   "cell_type": "code",
   "execution_count": 18,
   "metadata": {},
   "outputs": [
    {
     "data": {
      "text/html": [
       "<div>\n",
       "<style scoped>\n",
       "    .dataframe tbody tr th:only-of-type {\n",
       "        vertical-align: middle;\n",
       "    }\n",
       "\n",
       "    .dataframe tbody tr th {\n",
       "        vertical-align: top;\n",
       "    }\n",
       "\n",
       "    .dataframe thead th {\n",
       "        text-align: right;\n",
       "    }\n",
       "</style>\n",
       "<table border=\"1\" class=\"dataframe\">\n",
       "  <thead>\n",
       "    <tr style=\"text-align: right;\">\n",
       "      <th></th>\n",
       "      <th>District</th>\n",
       "      <th>Agriculture</th>\n",
       "      <th>Industry</th>\n",
       "      <th>Production</th>\n",
       "      <th>Service</th>\n",
       "    </tr>\n",
       "  </thead>\n",
       "  <tbody>\n",
       "    <tr>\n",
       "      <th>0</th>\n",
       "      <td>East Forests</td>\n",
       "      <td>2063.442241</td>\n",
       "      <td>3644.227029</td>\n",
       "      <td>503.974902</td>\n",
       "      <td>5561.723000</td>\n",
       "    </tr>\n",
       "    <tr>\n",
       "      <th>1</th>\n",
       "      <td>North Mountains</td>\n",
       "      <td>1256.708310</td>\n",
       "      <td>3806.303721</td>\n",
       "      <td>863.701223</td>\n",
       "      <td>11539.527866</td>\n",
       "    </tr>\n",
       "    <tr>\n",
       "      <th>2</th>\n",
       "      <td>South Deserts</td>\n",
       "      <td>675.912778</td>\n",
       "      <td>4051.426559</td>\n",
       "      <td>2701.291853</td>\n",
       "      <td>6028.035904</td>\n",
       "    </tr>\n",
       "    <tr>\n",
       "      <th>3</th>\n",
       "      <td>West Steppes</td>\n",
       "      <td>3309.595765</td>\n",
       "      <td>66.474966</td>\n",
       "      <td>274.674400</td>\n",
       "      <td>11996.029298</td>\n",
       "    </tr>\n",
       "  </tbody>\n",
       "</table>\n",
       "</div>"
      ],
      "text/plain": [
       "          District  Agriculture     Industry   Production       Service\n",
       "0     East Forests  2063.442241  3644.227029   503.974902   5561.723000\n",
       "1  North Mountains  1256.708310  3806.303721   863.701223  11539.527866\n",
       "2    South Deserts   675.912778  4051.426559  2701.291853   6028.035904\n",
       "3     West Steppes  3309.595765    66.474966   274.674400  11996.029298"
      ]
     },
     "execution_count": 18,
     "metadata": {},
     "output_type": "execute_result"
    }
   ],
   "source": [
    "df_noncorect = df_a.copy()\n",
    "df_noncorect.loc[df_noncorect.index, a_columns] += np.random.normal(size=[4, 4])\n",
    "df_noncorect"
   ]
  },
  {
   "cell_type": "code",
   "execution_count": 19,
   "metadata": {},
   "outputs": [
    {
     "data": {
      "text/plain": [
       "array([11773, 17467, 13456, 15646])"
      ]
     },
     "execution_count": 19,
     "metadata": {},
     "output_type": "execute_result"
    }
   ],
   "source": [
    "real_sums = df_a[a_columns].values.sum(axis=1)\n",
    "real_sums"
   ]
  },
  {
   "cell_type": "code",
   "execution_count": 20,
   "metadata": {},
   "outputs": [
    {
     "data": {
      "text/html": [
       "<div>\n",
       "<style scoped>\n",
       "    .dataframe tbody tr th:only-of-type {\n",
       "        vertical-align: middle;\n",
       "    }\n",
       "\n",
       "    .dataframe tbody tr th {\n",
       "        vertical-align: top;\n",
       "    }\n",
       "\n",
       "    .dataframe thead th {\n",
       "        text-align: right;\n",
       "    }\n",
       "</style>\n",
       "<table border=\"1\" class=\"dataframe\">\n",
       "  <thead>\n",
       "    <tr style=\"text-align: right;\">\n",
       "      <th></th>\n",
       "      <th>District</th>\n",
       "      <th>Agriculture</th>\n",
       "      <th>Industry</th>\n",
       "      <th>Production</th>\n",
       "      <th>Service</th>\n",
       "    </tr>\n",
       "  </thead>\n",
       "  <tbody>\n",
       "    <tr>\n",
       "      <th>0</th>\n",
       "      <td>East Forests</td>\n",
       "      <td>2063.377890</td>\n",
       "      <td>3644.113378</td>\n",
       "      <td>503.959184</td>\n",
       "      <td>5561.549548</td>\n",
       "    </tr>\n",
       "    <tr>\n",
       "      <th>1</th>\n",
       "      <td>North Mountains</td>\n",
       "      <td>1256.762912</td>\n",
       "      <td>3806.469099</td>\n",
       "      <td>863.738750</td>\n",
       "      <td>11540.029240</td>\n",
       "    </tr>\n",
       "    <tr>\n",
       "      <th>2</th>\n",
       "      <td>South Deserts</td>\n",
       "      <td>675.879271</td>\n",
       "      <td>4051.225716</td>\n",
       "      <td>2701.157941</td>\n",
       "      <td>6027.737073</td>\n",
       "    </tr>\n",
       "    <tr>\n",
       "      <th>3</th>\n",
       "      <td>West Steppes</td>\n",
       "      <td>3309.431959</td>\n",
       "      <td>66.471676</td>\n",
       "      <td>274.660805</td>\n",
       "      <td>11995.435561</td>\n",
       "    </tr>\n",
       "  </tbody>\n",
       "</table>\n",
       "</div>"
      ],
      "text/plain": [
       "          District  Agriculture     Industry   Production       Service\n",
       "0     East Forests  2063.377890  3644.113378   503.959184   5561.549548\n",
       "1  North Mountains  1256.762912  3806.469099   863.738750  11540.029240\n",
       "2    South Deserts   675.879271  4051.225716  2701.157941   6027.737073\n",
       "3     West Steppes  3309.431959    66.471676   274.660805  11995.435561"
      ]
     },
     "execution_count": 20,
     "metadata": {},
     "output_type": "execute_result"
    }
   ],
   "source": [
    "correct_table = ratedit.correct_table(df_noncorect, a_columns, real_sums, by_div=True, by_add=True)\n",
    "correct_table"
   ]
  },
  {
   "cell_type": "code",
   "execution_count": 21,
   "metadata": {},
   "outputs": [
    {
     "data": {
      "text/plain": [
       "array([ True,  True,  True,  True])"
      ]
     },
     "execution_count": 21,
     "metadata": {},
     "output_type": "execute_result"
    }
   ],
   "source": [
    "correct_table[a_columns].values.sum(axis=1) == real_sums"
   ]
  },
  {
   "cell_type": "code",
   "execution_count": null,
   "metadata": {},
   "outputs": [],
   "source": []
  }
 ],
 "metadata": {
  "kernelspec": {
   "display_name": "Python 3",
   "language": "python",
   "name": "python3"
  },
  "language_info": {
   "codemirror_mode": {
    "name": "ipython",
    "version": 3
   },
   "file_extension": ".py",
   "mimetype": "text/x-python",
   "name": "python",
   "nbconvert_exporter": "python",
   "pygments_lexer": "ipython3",
   "version": "3.9.5"
  }
 },
 "nbformat": 4,
 "nbformat_minor": 4
}
